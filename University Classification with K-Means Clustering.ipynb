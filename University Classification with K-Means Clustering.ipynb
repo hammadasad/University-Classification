{
 "cells": [
  {
   "cell_type": "code",
   "execution_count": 1,
   "metadata": {
    "collapsed": true
   },
   "outputs": [],
   "source": [
    "import pandas as pd\n",
    "import numpy as np"
   ]
  },
  {
   "cell_type": "code",
   "execution_count": 2,
   "metadata": {
    "collapsed": true
   },
   "outputs": [],
   "source": [
    "import matplotlib.pyplot as plt\n",
    "import seaborn as sns"
   ]
  },
  {
   "cell_type": "code",
   "execution_count": 3,
   "metadata": {
    "collapsed": true
   },
   "outputs": [],
   "source": [
    "%matplotlib inline"
   ]
  },
  {
   "cell_type": "code",
   "execution_count": 60,
   "metadata": {
    "collapsed": false
   },
   "outputs": [],
   "source": [
    "# Exclude the first column\n",
    "dataframe = pd.read_csv('College_Data', index_col=0)"
   ]
  },
  {
   "cell_type": "code",
   "execution_count": 61,
   "metadata": {
    "collapsed": false
   },
   "outputs": [
    {
     "data": {
      "text/html": [
       "<div>\n",
       "<table border=\"1\" class=\"dataframe\">\n",
       "  <thead>\n",
       "    <tr style=\"text-align: right;\">\n",
       "      <th></th>\n",
       "      <th>Private</th>\n",
       "      <th>Apps</th>\n",
       "      <th>Accept</th>\n",
       "      <th>Enroll</th>\n",
       "      <th>Top10perc</th>\n",
       "      <th>Top25perc</th>\n",
       "      <th>F.Undergrad</th>\n",
       "      <th>P.Undergrad</th>\n",
       "      <th>Outstate</th>\n",
       "      <th>Room.Board</th>\n",
       "      <th>Books</th>\n",
       "      <th>Personal</th>\n",
       "      <th>PhD</th>\n",
       "      <th>Terminal</th>\n",
       "      <th>S.F.Ratio</th>\n",
       "      <th>perc.alumni</th>\n",
       "      <th>Expend</th>\n",
       "      <th>Grad.Rate</th>\n",
       "    </tr>\n",
       "  </thead>\n",
       "  <tbody>\n",
       "    <tr>\n",
       "      <th>Abilene Christian University</th>\n",
       "      <td>Yes</td>\n",
       "      <td>1660</td>\n",
       "      <td>1232</td>\n",
       "      <td>721</td>\n",
       "      <td>23</td>\n",
       "      <td>52</td>\n",
       "      <td>2885</td>\n",
       "      <td>537</td>\n",
       "      <td>7440</td>\n",
       "      <td>3300</td>\n",
       "      <td>450</td>\n",
       "      <td>2200</td>\n",
       "      <td>70</td>\n",
       "      <td>78</td>\n",
       "      <td>18.1</td>\n",
       "      <td>12</td>\n",
       "      <td>7041</td>\n",
       "      <td>60</td>\n",
       "    </tr>\n",
       "    <tr>\n",
       "      <th>Adelphi University</th>\n",
       "      <td>Yes</td>\n",
       "      <td>2186</td>\n",
       "      <td>1924</td>\n",
       "      <td>512</td>\n",
       "      <td>16</td>\n",
       "      <td>29</td>\n",
       "      <td>2683</td>\n",
       "      <td>1227</td>\n",
       "      <td>12280</td>\n",
       "      <td>6450</td>\n",
       "      <td>750</td>\n",
       "      <td>1500</td>\n",
       "      <td>29</td>\n",
       "      <td>30</td>\n",
       "      <td>12.2</td>\n",
       "      <td>16</td>\n",
       "      <td>10527</td>\n",
       "      <td>56</td>\n",
       "    </tr>\n",
       "    <tr>\n",
       "      <th>Adrian College</th>\n",
       "      <td>Yes</td>\n",
       "      <td>1428</td>\n",
       "      <td>1097</td>\n",
       "      <td>336</td>\n",
       "      <td>22</td>\n",
       "      <td>50</td>\n",
       "      <td>1036</td>\n",
       "      <td>99</td>\n",
       "      <td>11250</td>\n",
       "      <td>3750</td>\n",
       "      <td>400</td>\n",
       "      <td>1165</td>\n",
       "      <td>53</td>\n",
       "      <td>66</td>\n",
       "      <td>12.9</td>\n",
       "      <td>30</td>\n",
       "      <td>8735</td>\n",
       "      <td>54</td>\n",
       "    </tr>\n",
       "    <tr>\n",
       "      <th>Agnes Scott College</th>\n",
       "      <td>Yes</td>\n",
       "      <td>417</td>\n",
       "      <td>349</td>\n",
       "      <td>137</td>\n",
       "      <td>60</td>\n",
       "      <td>89</td>\n",
       "      <td>510</td>\n",
       "      <td>63</td>\n",
       "      <td>12960</td>\n",
       "      <td>5450</td>\n",
       "      <td>450</td>\n",
       "      <td>875</td>\n",
       "      <td>92</td>\n",
       "      <td>97</td>\n",
       "      <td>7.7</td>\n",
       "      <td>37</td>\n",
       "      <td>19016</td>\n",
       "      <td>59</td>\n",
       "    </tr>\n",
       "    <tr>\n",
       "      <th>Alaska Pacific University</th>\n",
       "      <td>Yes</td>\n",
       "      <td>193</td>\n",
       "      <td>146</td>\n",
       "      <td>55</td>\n",
       "      <td>16</td>\n",
       "      <td>44</td>\n",
       "      <td>249</td>\n",
       "      <td>869</td>\n",
       "      <td>7560</td>\n",
       "      <td>4120</td>\n",
       "      <td>800</td>\n",
       "      <td>1500</td>\n",
       "      <td>76</td>\n",
       "      <td>72</td>\n",
       "      <td>11.9</td>\n",
       "      <td>2</td>\n",
       "      <td>10922</td>\n",
       "      <td>15</td>\n",
       "    </tr>\n",
       "  </tbody>\n",
       "</table>\n",
       "</div>"
      ],
      "text/plain": [
       "                             Private  Apps  Accept  Enroll  Top10perc  \\\n",
       "Abilene Christian University     Yes  1660    1232     721         23   \n",
       "Adelphi University               Yes  2186    1924     512         16   \n",
       "Adrian College                   Yes  1428    1097     336         22   \n",
       "Agnes Scott College              Yes   417     349     137         60   \n",
       "Alaska Pacific University        Yes   193     146      55         16   \n",
       "\n",
       "                              Top25perc  F.Undergrad  P.Undergrad  Outstate  \\\n",
       "Abilene Christian University         52         2885          537      7440   \n",
       "Adelphi University                   29         2683         1227     12280   \n",
       "Adrian College                       50         1036           99     11250   \n",
       "Agnes Scott College                  89          510           63     12960   \n",
       "Alaska Pacific University            44          249          869      7560   \n",
       "\n",
       "                              Room.Board  Books  Personal  PhD  Terminal  \\\n",
       "Abilene Christian University        3300    450      2200   70        78   \n",
       "Adelphi University                  6450    750      1500   29        30   \n",
       "Adrian College                      3750    400      1165   53        66   \n",
       "Agnes Scott College                 5450    450       875   92        97   \n",
       "Alaska Pacific University           4120    800      1500   76        72   \n",
       "\n",
       "                              S.F.Ratio  perc.alumni  Expend  Grad.Rate  \n",
       "Abilene Christian University       18.1           12    7041         60  \n",
       "Adelphi University                 12.2           16   10527         56  \n",
       "Adrian College                     12.9           30    8735         54  \n",
       "Agnes Scott College                 7.7           37   19016         59  \n",
       "Alaska Pacific University          11.9            2   10922         15  "
      ]
     },
     "execution_count": 61,
     "metadata": {},
     "output_type": "execute_result"
    }
   ],
   "source": [
    "dataframe.head()"
   ]
  },
  {
   "cell_type": "code",
   "execution_count": 62,
   "metadata": {
    "collapsed": false
   },
   "outputs": [
    {
     "data": {
      "text/plain": [
       "<bound method DataFrame.info of                                         Private   Apps  Accept  Enroll  \\\n",
       "Abilene Christian University                Yes   1660    1232     721   \n",
       "Adelphi University                          Yes   2186    1924     512   \n",
       "Adrian College                              Yes   1428    1097     336   \n",
       "Agnes Scott College                         Yes    417     349     137   \n",
       "Alaska Pacific University                   Yes    193     146      55   \n",
       "Albertson College                           Yes    587     479     158   \n",
       "Albertus Magnus College                     Yes    353     340     103   \n",
       "Albion College                              Yes   1899    1720     489   \n",
       "Albright College                            Yes   1038     839     227   \n",
       "Alderson-Broaddus College                   Yes    582     498     172   \n",
       "Alfred University                           Yes   1732    1425     472   \n",
       "Allegheny College                           Yes   2652    1900     484   \n",
       "Allentown Coll. of St. Francis de Sales     Yes   1179     780     290   \n",
       "Alma College                                Yes   1267    1080     385   \n",
       "Alverno College                             Yes    494     313     157   \n",
       "American International College              Yes   1420    1093     220   \n",
       "Amherst College                             Yes   4302     992     418   \n",
       "Anderson University                         Yes   1216     908     423   \n",
       "Andrews University                          Yes   1130     704     322   \n",
       "Angelo State University                      No   3540    2001    1016   \n",
       "Antioch University                          Yes    713     661     252   \n",
       "Appalachian State University                 No   7313    4664    1910   \n",
       "Aquinas College                             Yes    619     516     219   \n",
       "Arizona State University Main campus         No  12809   10308    3761   \n",
       "Arkansas College (Lyon College)             Yes    708     334     166   \n",
       "Arkansas Tech University                     No   1734    1729     951   \n",
       "Assumption College                          Yes   2135    1700     491   \n",
       "Auburn University-Main Campus                No   7548    6791    3070   \n",
       "Augsburg College                            Yes    662     513     257   \n",
       "Augustana College IL                        Yes   1879    1658     497   \n",
       "...                                         ...    ...     ...     ...   \n",
       "Westfield State College                      No   3100    2150     825   \n",
       "Westminster College MO                      Yes    662     553     184   \n",
       "Westminster College                         Yes    996     866     377   \n",
       "Westminster College of Salt Lake City       Yes    917     720     213   \n",
       "Westmont College                             No    950     713     351   \n",
       "Wheaton College IL                          Yes   1432     920     548   \n",
       "Westminster College PA                      Yes   1738    1373     417   \n",
       "Wheeling Jesuit College                     Yes    903     755     213   \n",
       "Whitman College                             Yes   1861     998     359   \n",
       "Whittier College                            Yes   1681    1069     344   \n",
       "Whitworth College                           Yes   1121     926     372   \n",
       "Widener University                          Yes   2139    1492     502   \n",
       "Wilkes University                           Yes   1631    1431     434   \n",
       "Willamette University                       Yes   1658    1327     395   \n",
       "William Jewell College                      Yes    663     547     315   \n",
       "William Woods University                    Yes    469     435     227   \n",
       "Williams College                            Yes   4186    1245     526   \n",
       "Wilson College                              Yes    167     130      46   \n",
       "Wingate College                             Yes   1239    1017     383   \n",
       "Winona State University                      No   3325    2047    1301   \n",
       "Winthrop University                          No   2320    1805     769   \n",
       "Wisconsin Lutheran College                  Yes    152     128      75   \n",
       "Wittenberg University                       Yes   1979    1739     575   \n",
       "Wofford College                             Yes   1501     935     273   \n",
       "Worcester Polytechnic Institute             Yes   2768    2314     682   \n",
       "Worcester State College                      No   2197    1515     543   \n",
       "Xavier University                           Yes   1959    1805     695   \n",
       "Xavier University of Louisiana              Yes   2097    1915     695   \n",
       "Yale University                             Yes  10705    2453    1317   \n",
       "York College of Pennsylvania                Yes   2989    1855     691   \n",
       "\n",
       "                                         Top10perc  Top25perc  F.Undergrad  \\\n",
       "Abilene Christian University                    23         52         2885   \n",
       "Adelphi University                              16         29         2683   \n",
       "Adrian College                                  22         50         1036   \n",
       "Agnes Scott College                             60         89          510   \n",
       "Alaska Pacific University                       16         44          249   \n",
       "Albertson College                               38         62          678   \n",
       "Albertus Magnus College                         17         45          416   \n",
       "Albion College                                  37         68         1594   \n",
       "Albright College                                30         63          973   \n",
       "Alderson-Broaddus College                       21         44          799   \n",
       "Alfred University                               37         75         1830   \n",
       "Allegheny College                               44         77         1707   \n",
       "Allentown Coll. of St. Francis de Sales         38         64         1130   \n",
       "Alma College                                    44         73         1306   \n",
       "Alverno College                                 23         46         1317   \n",
       "American International College                   9         22         1018   \n",
       "Amherst College                                 83         96         1593   \n",
       "Anderson University                             19         40         1819   \n",
       "Andrews University                              14         23         1586   \n",
       "Angelo State University                         24         54         4190   \n",
       "Antioch University                              25         44          712   \n",
       "Appalachian State University                    20         63         9940   \n",
       "Aquinas College                                 20         51         1251   \n",
       "Arizona State University Main campus            24         49        22593   \n",
       "Arkansas College (Lyon College)                 46         74          530   \n",
       "Arkansas Tech University                        12         52         3602   \n",
       "Assumption College                              23         59         1708   \n",
       "Auburn University-Main Campus                   25         57        16262   \n",
       "Augsburg College                                12         30         2074   \n",
       "Augustana College IL                            36         69         1950   \n",
       "...                                            ...        ...          ...   \n",
       "Westfield State College                          3         20         3234   \n",
       "Westminster College MO                          20         43          665   \n",
       "Westminster College                             29         58         1411   \n",
       "Westminster College of Salt Lake City           21         60          979   \n",
       "Westmont College                                42         72         1276   \n",
       "Wheaton College IL                              56         84         2200   \n",
       "Westminster College PA                          21         55         1335   \n",
       "Wheeling Jesuit College                         15         49          971   \n",
       "Whitman College                                 45         77         1220   \n",
       "Whittier College                                35         63         1235   \n",
       "Whitworth College                               43         70         1270   \n",
       "Widener University                              24         64         2186   \n",
       "Wilkes University                               15         36         1803   \n",
       "Willamette University                           49         80         1595   \n",
       "William Jewell College                          32         67         1279   \n",
       "William Woods University                        17         39          851   \n",
       "Williams College                                81         96         1988   \n",
       "Wilson College                                  16         50          199   \n",
       "Wingate College                                 10         34         1207   \n",
       "Winona State University                         20         45         5800   \n",
       "Winthrop University                             24         61         3395   \n",
       "Wisconsin Lutheran College                      17         41          282   \n",
       "Wittenberg University                           42         68         1980   \n",
       "Wofford College                                 51         83         1059   \n",
       "Worcester Polytechnic Institute                 49         86         2802   \n",
       "Worcester State College                          4         26         3089   \n",
       "Xavier University                               24         47         2849   \n",
       "Xavier University of Louisiana                  34         61         2793   \n",
       "Yale University                                 95         99         5217   \n",
       "York College of Pennsylvania                    28         63         2988   \n",
       "\n",
       "                                         P.Undergrad  Outstate  Room.Board  \\\n",
       "Abilene Christian University                     537      7440        3300   \n",
       "Adelphi University                              1227     12280        6450   \n",
       "Adrian College                                    99     11250        3750   \n",
       "Agnes Scott College                               63     12960        5450   \n",
       "Alaska Pacific University                        869      7560        4120   \n",
       "Albertson College                                 41     13500        3335   \n",
       "Albertus Magnus College                          230     13290        5720   \n",
       "Albion College                                    32     13868        4826   \n",
       "Albright College                                 306     15595        4400   \n",
       "Alderson-Broaddus College                         78     10468        3380   \n",
       "Alfred University                                110     16548        5406   \n",
       "Allegheny College                                 44     17080        4440   \n",
       "Allentown Coll. of St. Francis de Sales          638      9690        4785   \n",
       "Alma College                                      28     12572        4552   \n",
       "Alverno College                                 1235      8352        3640   \n",
       "American International College                   287      8700        4780   \n",
       "Amherst College                                    5     19760        5300   \n",
       "Anderson University                              281     10100        3520   \n",
       "Andrews University                               326      9996        3090   \n",
       "Angelo State University                         1512      5130        3592   \n",
       "Antioch University                                23     15476        3336   \n",
       "Appalachian State University                    1035      6806        2540   \n",
       "Aquinas College                                  767     11208        4124   \n",
       "Arizona State University Main campus            7585      7434        4850   \n",
       "Arkansas College (Lyon College)                  182      8644        3922   \n",
       "Arkansas Tech University                         939      3460        2650   \n",
       "Assumption College                               689     12000        5920   \n",
       "Auburn University-Main Campus                   1716      6300        3933   \n",
       "Augsburg College                                 726     11902        4372   \n",
       "Augustana College IL                              38     13353        4173   \n",
       "...                                              ...       ...         ...   \n",
       "Westfield State College                          941      5542        3788   \n",
       "Westminster College MO                            37     10720        4050   \n",
       "Westminster College                               72     12065        3615   \n",
       "Westminster College of Salt Lake City            743      8820        4050   \n",
       "Westmont College                                   9     14320        5304   \n",
       "Wheaton College IL                                56     11480        4200   \n",
       "Westminster College PA                            30     18460        5970   \n",
       "Wheeling Jesuit College                          305     10500        4545   \n",
       "Whitman College                                   46     16670        4900   \n",
       "Whittier College                                  30     16249        5699   \n",
       "Whitworth College                                160     12660        4500   \n",
       "Widener University                              2171     12350        5370   \n",
       "Wilkes University                                603     11150        5130   \n",
       "Willamette University                            159     14800        4620   \n",
       "William Jewell College                            75     10060        2970   \n",
       "William Woods University                         120     10535        4365   \n",
       "Williams College                                  29     19629        5790   \n",
       "Wilson College                                   676     11428        5084   \n",
       "Wingate College                                  157      7820        3400   \n",
       "Winona State University                          872      4200        2700   \n",
       "Winthrop University                              670      6400        3392   \n",
       "Wisconsin Lutheran College                        22      9100        3700   \n",
       "Wittenberg University                            144     15948        4404   \n",
       "Wofford College                                   34     12680        4150   \n",
       "Worcester Polytechnic Institute                   86     15884        5370   \n",
       "Worcester State College                         2029      6797        3900   \n",
       "Xavier University                               1107     11520        4960   \n",
       "Xavier University of Louisiana                   166      6900        4200   \n",
       "Yale University                                   83     19840        6510   \n",
       "York College of Pennsylvania                    1726      4990        3560   \n",
       "\n",
       "                                         Books  Personal  PhD  Terminal  \\\n",
       "Abilene Christian University               450      2200   70        78   \n",
       "Adelphi University                         750      1500   29        30   \n",
       "Adrian College                             400      1165   53        66   \n",
       "Agnes Scott College                        450       875   92        97   \n",
       "Alaska Pacific University                  800      1500   76        72   \n",
       "Albertson College                          500       675   67        73   \n",
       "Albertus Magnus College                    500      1500   90        93   \n",
       "Albion College                             450       850   89       100   \n",
       "Albright College                           300       500   79        84   \n",
       "Alderson-Broaddus College                  660      1800   40        41   \n",
       "Alfred University                          500       600   82        88   \n",
       "Allegheny College                          400       600   73        91   \n",
       "Allentown Coll. of St. Francis de Sales    600      1000   60        84   \n",
       "Alma College                               400       400   79        87   \n",
       "Alverno College                            650      2449   36        69   \n",
       "American International College             450      1400   78        84   \n",
       "Amherst College                            660      1598   93        98   \n",
       "Anderson University                        550      1100   48        61   \n",
       "Andrews University                         900      1320   62        66   \n",
       "Angelo State University                    500      2000   60        62   \n",
       "Antioch University                         400      1100   69        82   \n",
       "Appalachian State University                96      2000   83        96   \n",
       "Aquinas College                            350      1615   55        65   \n",
       "Arizona State University Main campus       700      2100   88        93   \n",
       "Arkansas College (Lyon College)            500       800   79        88   \n",
       "Arkansas Tech University                   450      1000   57        60   \n",
       "Assumption College                         500       500   93        93   \n",
       "Auburn University-Main Campus              600      1908   85        91   \n",
       "Augsburg College                           540       950   65        65   \n",
       "Augustana College IL                       540       821   78        83   \n",
       "...                                        ...       ...  ...       ...   \n",
       "Westfield State College                    500      1300   75        79   \n",
       "Westminster College MO                     600      1650   66        70   \n",
       "Westminster College                        430       685   62        78   \n",
       "Westminster College of Salt Lake City      600      2025   68        83   \n",
       "Westmont College                           490      1410   77        77   \n",
       "Wheaton College IL                         530      1400   81        83   \n",
       "Westminster College PA                     700       850   92        96   \n",
       "Wheeling Jesuit College                    600       600   66        71   \n",
       "Whitman College                            750       800   80        83   \n",
       "Whittier College                           500      1998   84        92   \n",
       "Whitworth College                          678      2424   80        80   \n",
       "Widener University                         500      1350   88        86   \n",
       "Wilkes University                          550      1260   78        92   \n",
       "Willamette University                      400       790   91        94   \n",
       "William Jewell College                     500      2600   74        80   \n",
       "William Woods University                   550      3700   39        66   \n",
       "Williams College                           500      1200   94        99   \n",
       "Wilson College                             450       475   67        76   \n",
       "Wingate College                            550      1550   69        81   \n",
       "Winona State University                    300      1200   53        60   \n",
       "Winthrop University                        580      2150   71        80   \n",
       "Wisconsin Lutheran College                 500      1400   48        48   \n",
       "Wittenberg University                      400       800   82        95   \n",
       "Wofford College                            605      1440   91        92   \n",
       "Worcester Polytechnic Institute            530       730   92        94   \n",
       "Worcester State College                    500      1200   60        60   \n",
       "Xavier University                          600      1250   73        75   \n",
       "Xavier University of Louisiana             617       781   67        75   \n",
       "Yale University                            630      2115   96        96   \n",
       "York College of Pennsylvania               500      1250   75        75   \n",
       "\n",
       "                                         S.F.Ratio  perc.alumni  Expend  \\\n",
       "Abilene Christian University                  18.1           12    7041   \n",
       "Adelphi University                            12.2           16   10527   \n",
       "Adrian College                                12.9           30    8735   \n",
       "Agnes Scott College                            7.7           37   19016   \n",
       "Alaska Pacific University                     11.9            2   10922   \n",
       "Albertson College                              9.4           11    9727   \n",
       "Albertus Magnus College                       11.5           26    8861   \n",
       "Albion College                                13.7           37   11487   \n",
       "Albright College                              11.3           23   11644   \n",
       "Alderson-Broaddus College                     11.5           15    8991   \n",
       "Alfred University                             11.3           31   10932   \n",
       "Allegheny College                              9.9           41   11711   \n",
       "Allentown Coll. of St. Francis de Sales       13.3           21    7940   \n",
       "Alma College                                  15.3           32    9305   \n",
       "Alverno College                               11.1           26    8127   \n",
       "American International College                14.7           19    7355   \n",
       "Amherst College                                8.4           63   21424   \n",
       "Anderson University                           12.1           14    7994   \n",
       "Andrews University                            11.5           18   10908   \n",
       "Angelo State University                       23.1            5    4010   \n",
       "Antioch University                            11.3           35   42926   \n",
       "Appalachian State University                  18.3           14    5854   \n",
       "Aquinas College                               12.7           25    6584   \n",
       "Arizona State University Main campus          18.9            5    4602   \n",
       "Arkansas College (Lyon College)               12.6           24   14579   \n",
       "Arkansas Tech University                      19.6            5    4739   \n",
       "Assumption College                            13.8           30    7100   \n",
       "Auburn University-Main Campus                 16.7           18    6642   \n",
       "Augsburg College                              12.8           31    7836   \n",
       "Augustana College IL                          12.7           40    9220   \n",
       "...                                            ...          ...     ...   \n",
       "Westfield State College                       15.7           20    4222   \n",
       "Westminster College MO                        12.5           20    7925   \n",
       "Westminster College                           12.5           41    8596   \n",
       "Westminster College of Salt Lake City         10.5           34    7170   \n",
       "Westmont College                              14.9           17    8837   \n",
       "Wheaton College IL                            12.7           40   11916   \n",
       "Westminster College PA                        13.2           41   22704   \n",
       "Wheeling Jesuit College                       14.1           27    7494   \n",
       "Whitman College                               10.5           51   13198   \n",
       "Whittier College                              13.6           29   11778   \n",
       "Whitworth College                             16.9           20    8328   \n",
       "Widener University                            12.6           19    9603   \n",
       "Wilkes University                             13.3           24    8543   \n",
       "Willamette University                         13.3           37   10779   \n",
       "William Jewell College                        11.2           19    7885   \n",
       "William Woods University                      12.9           16    7438   \n",
       "Williams College                               9.0           64   22014   \n",
       "Wilson College                                 8.3           43   10291   \n",
       "Wingate College                               13.9            8    7264   \n",
       "Winona State University                       20.2           18    5318   \n",
       "Winthrop University                           12.8           26    6729   \n",
       "Wisconsin Lutheran College                     8.5           26    8960   \n",
       "Wittenberg University                         12.8           29   10414   \n",
       "Wofford College                               15.3           42    7875   \n",
       "Worcester Polytechnic Institute               15.2           34   10774   \n",
       "Worcester State College                       21.0           14    4469   \n",
       "Xavier University                             13.3           31    9189   \n",
       "Xavier University of Louisiana                14.4           20    8323   \n",
       "Yale University                                5.8           49   40386   \n",
       "York College of Pennsylvania                  18.1           28    4509   \n",
       "\n",
       "                                         Grad.Rate  \n",
       "Abilene Christian University                    60  \n",
       "Adelphi University                              56  \n",
       "Adrian College                                  54  \n",
       "Agnes Scott College                             59  \n",
       "Alaska Pacific University                       15  \n",
       "Albertson College                               55  \n",
       "Albertus Magnus College                         63  \n",
       "Albion College                                  73  \n",
       "Albright College                                80  \n",
       "Alderson-Broaddus College                       52  \n",
       "Alfred University                               73  \n",
       "Allegheny College                               76  \n",
       "Allentown Coll. of St. Francis de Sales         74  \n",
       "Alma College                                    68  \n",
       "Alverno College                                 55  \n",
       "American International College                  69  \n",
       "Amherst College                                100  \n",
       "Anderson University                             59  \n",
       "Andrews University                              46  \n",
       "Angelo State University                         34  \n",
       "Antioch University                              48  \n",
       "Appalachian State University                    70  \n",
       "Aquinas College                                 65  \n",
       "Arizona State University Main campus            48  \n",
       "Arkansas College (Lyon College)                 54  \n",
       "Arkansas Tech University                        48  \n",
       "Assumption College                              88  \n",
       "Auburn University-Main Campus                   69  \n",
       "Augsburg College                                58  \n",
       "Augustana College IL                            71  \n",
       "...                                            ...  \n",
       "Westfield State College                         65  \n",
       "Westminster College MO                          62  \n",
       "Westminster College                             80  \n",
       "Westminster College of Salt Lake City           50  \n",
       "Westmont College                                87  \n",
       "Wheaton College IL                              85  \n",
       "Westminster College PA                          71  \n",
       "Wheeling Jesuit College                         72  \n",
       "Whitman College                                 72  \n",
       "Whittier College                                52  \n",
       "Whitworth College                               80  \n",
       "Widener University                              63  \n",
       "Wilkes University                               67  \n",
       "Willamette University                           68  \n",
       "William Jewell College                          59  \n",
       "William Woods University                        52  \n",
       "Williams College                                99  \n",
       "Wilson College                                  67  \n",
       "Wingate College                                 91  \n",
       "Winona State University                         58  \n",
       "Winthrop University                             59  \n",
       "Wisconsin Lutheran College                      50  \n",
       "Wittenberg University                           78  \n",
       "Wofford College                                 75  \n",
       "Worcester Polytechnic Institute                 82  \n",
       "Worcester State College                         40  \n",
       "Xavier University                               83  \n",
       "Xavier University of Louisiana                  49  \n",
       "Yale University                                 99  \n",
       "York College of Pennsylvania                    99  \n",
       "\n",
       "[777 rows x 18 columns]>"
      ]
     },
     "execution_count": 62,
     "metadata": {},
     "output_type": "execute_result"
    }
   ],
   "source": [
    "dataframe.info"
   ]
  },
  {
   "cell_type": "code",
   "execution_count": 63,
   "metadata": {
    "collapsed": false
   },
   "outputs": [
    {
     "data": {
      "text/html": [
       "<div>\n",
       "<table border=\"1\" class=\"dataframe\">\n",
       "  <thead>\n",
       "    <tr style=\"text-align: right;\">\n",
       "      <th></th>\n",
       "      <th>Apps</th>\n",
       "      <th>Accept</th>\n",
       "      <th>Enroll</th>\n",
       "      <th>Top10perc</th>\n",
       "      <th>Top25perc</th>\n",
       "      <th>F.Undergrad</th>\n",
       "      <th>P.Undergrad</th>\n",
       "      <th>Outstate</th>\n",
       "      <th>Room.Board</th>\n",
       "      <th>Books</th>\n",
       "      <th>Personal</th>\n",
       "      <th>PhD</th>\n",
       "      <th>Terminal</th>\n",
       "      <th>S.F.Ratio</th>\n",
       "      <th>perc.alumni</th>\n",
       "      <th>Expend</th>\n",
       "      <th>Grad.Rate</th>\n",
       "    </tr>\n",
       "  </thead>\n",
       "  <tbody>\n",
       "    <tr>\n",
       "      <th>count</th>\n",
       "      <td>777.000000</td>\n",
       "      <td>777.000000</td>\n",
       "      <td>777.000000</td>\n",
       "      <td>777.000000</td>\n",
       "      <td>777.000000</td>\n",
       "      <td>777.000000</td>\n",
       "      <td>777.000000</td>\n",
       "      <td>777.000000</td>\n",
       "      <td>777.000000</td>\n",
       "      <td>777.000000</td>\n",
       "      <td>777.000000</td>\n",
       "      <td>777.000000</td>\n",
       "      <td>777.000000</td>\n",
       "      <td>777.000000</td>\n",
       "      <td>777.000000</td>\n",
       "      <td>777.000000</td>\n",
       "      <td>777.00000</td>\n",
       "    </tr>\n",
       "    <tr>\n",
       "      <th>mean</th>\n",
       "      <td>3001.638353</td>\n",
       "      <td>2018.804376</td>\n",
       "      <td>779.972973</td>\n",
       "      <td>27.558559</td>\n",
       "      <td>55.796654</td>\n",
       "      <td>3699.907336</td>\n",
       "      <td>855.298584</td>\n",
       "      <td>10440.669241</td>\n",
       "      <td>4357.526384</td>\n",
       "      <td>549.380952</td>\n",
       "      <td>1340.642214</td>\n",
       "      <td>72.660232</td>\n",
       "      <td>79.702703</td>\n",
       "      <td>14.089704</td>\n",
       "      <td>22.743887</td>\n",
       "      <td>9660.171171</td>\n",
       "      <td>65.46332</td>\n",
       "    </tr>\n",
       "    <tr>\n",
       "      <th>std</th>\n",
       "      <td>3870.201484</td>\n",
       "      <td>2451.113971</td>\n",
       "      <td>929.176190</td>\n",
       "      <td>17.640364</td>\n",
       "      <td>19.804778</td>\n",
       "      <td>4850.420531</td>\n",
       "      <td>1522.431887</td>\n",
       "      <td>4023.016484</td>\n",
       "      <td>1096.696416</td>\n",
       "      <td>165.105360</td>\n",
       "      <td>677.071454</td>\n",
       "      <td>16.328155</td>\n",
       "      <td>14.722359</td>\n",
       "      <td>3.958349</td>\n",
       "      <td>12.391801</td>\n",
       "      <td>5221.768440</td>\n",
       "      <td>17.17771</td>\n",
       "    </tr>\n",
       "    <tr>\n",
       "      <th>min</th>\n",
       "      <td>81.000000</td>\n",
       "      <td>72.000000</td>\n",
       "      <td>35.000000</td>\n",
       "      <td>1.000000</td>\n",
       "      <td>9.000000</td>\n",
       "      <td>139.000000</td>\n",
       "      <td>1.000000</td>\n",
       "      <td>2340.000000</td>\n",
       "      <td>1780.000000</td>\n",
       "      <td>96.000000</td>\n",
       "      <td>250.000000</td>\n",
       "      <td>8.000000</td>\n",
       "      <td>24.000000</td>\n",
       "      <td>2.500000</td>\n",
       "      <td>0.000000</td>\n",
       "      <td>3186.000000</td>\n",
       "      <td>10.00000</td>\n",
       "    </tr>\n",
       "    <tr>\n",
       "      <th>25%</th>\n",
       "      <td>776.000000</td>\n",
       "      <td>604.000000</td>\n",
       "      <td>242.000000</td>\n",
       "      <td>15.000000</td>\n",
       "      <td>41.000000</td>\n",
       "      <td>992.000000</td>\n",
       "      <td>95.000000</td>\n",
       "      <td>7320.000000</td>\n",
       "      <td>3597.000000</td>\n",
       "      <td>470.000000</td>\n",
       "      <td>850.000000</td>\n",
       "      <td>62.000000</td>\n",
       "      <td>71.000000</td>\n",
       "      <td>11.500000</td>\n",
       "      <td>13.000000</td>\n",
       "      <td>6751.000000</td>\n",
       "      <td>53.00000</td>\n",
       "    </tr>\n",
       "    <tr>\n",
       "      <th>50%</th>\n",
       "      <td>1558.000000</td>\n",
       "      <td>1110.000000</td>\n",
       "      <td>434.000000</td>\n",
       "      <td>23.000000</td>\n",
       "      <td>54.000000</td>\n",
       "      <td>1707.000000</td>\n",
       "      <td>353.000000</td>\n",
       "      <td>9990.000000</td>\n",
       "      <td>4200.000000</td>\n",
       "      <td>500.000000</td>\n",
       "      <td>1200.000000</td>\n",
       "      <td>75.000000</td>\n",
       "      <td>82.000000</td>\n",
       "      <td>13.600000</td>\n",
       "      <td>21.000000</td>\n",
       "      <td>8377.000000</td>\n",
       "      <td>65.00000</td>\n",
       "    </tr>\n",
       "    <tr>\n",
       "      <th>75%</th>\n",
       "      <td>3624.000000</td>\n",
       "      <td>2424.000000</td>\n",
       "      <td>902.000000</td>\n",
       "      <td>35.000000</td>\n",
       "      <td>69.000000</td>\n",
       "      <td>4005.000000</td>\n",
       "      <td>967.000000</td>\n",
       "      <td>12925.000000</td>\n",
       "      <td>5050.000000</td>\n",
       "      <td>600.000000</td>\n",
       "      <td>1700.000000</td>\n",
       "      <td>85.000000</td>\n",
       "      <td>92.000000</td>\n",
       "      <td>16.500000</td>\n",
       "      <td>31.000000</td>\n",
       "      <td>10830.000000</td>\n",
       "      <td>78.00000</td>\n",
       "    </tr>\n",
       "    <tr>\n",
       "      <th>max</th>\n",
       "      <td>48094.000000</td>\n",
       "      <td>26330.000000</td>\n",
       "      <td>6392.000000</td>\n",
       "      <td>96.000000</td>\n",
       "      <td>100.000000</td>\n",
       "      <td>31643.000000</td>\n",
       "      <td>21836.000000</td>\n",
       "      <td>21700.000000</td>\n",
       "      <td>8124.000000</td>\n",
       "      <td>2340.000000</td>\n",
       "      <td>6800.000000</td>\n",
       "      <td>103.000000</td>\n",
       "      <td>100.000000</td>\n",
       "      <td>39.800000</td>\n",
       "      <td>64.000000</td>\n",
       "      <td>56233.000000</td>\n",
       "      <td>118.00000</td>\n",
       "    </tr>\n",
       "  </tbody>\n",
       "</table>\n",
       "</div>"
      ],
      "text/plain": [
       "               Apps        Accept       Enroll   Top10perc   Top25perc  \\\n",
       "count    777.000000    777.000000   777.000000  777.000000  777.000000   \n",
       "mean    3001.638353   2018.804376   779.972973   27.558559   55.796654   \n",
       "std     3870.201484   2451.113971   929.176190   17.640364   19.804778   \n",
       "min       81.000000     72.000000    35.000000    1.000000    9.000000   \n",
       "25%      776.000000    604.000000   242.000000   15.000000   41.000000   \n",
       "50%     1558.000000   1110.000000   434.000000   23.000000   54.000000   \n",
       "75%     3624.000000   2424.000000   902.000000   35.000000   69.000000   \n",
       "max    48094.000000  26330.000000  6392.000000   96.000000  100.000000   \n",
       "\n",
       "        F.Undergrad   P.Undergrad      Outstate   Room.Board        Books  \\\n",
       "count    777.000000    777.000000    777.000000   777.000000   777.000000   \n",
       "mean    3699.907336    855.298584  10440.669241  4357.526384   549.380952   \n",
       "std     4850.420531   1522.431887   4023.016484  1096.696416   165.105360   \n",
       "min      139.000000      1.000000   2340.000000  1780.000000    96.000000   \n",
       "25%      992.000000     95.000000   7320.000000  3597.000000   470.000000   \n",
       "50%     1707.000000    353.000000   9990.000000  4200.000000   500.000000   \n",
       "75%     4005.000000    967.000000  12925.000000  5050.000000   600.000000   \n",
       "max    31643.000000  21836.000000  21700.000000  8124.000000  2340.000000   \n",
       "\n",
       "          Personal         PhD    Terminal   S.F.Ratio  perc.alumni  \\\n",
       "count   777.000000  777.000000  777.000000  777.000000   777.000000   \n",
       "mean   1340.642214   72.660232   79.702703   14.089704    22.743887   \n",
       "std     677.071454   16.328155   14.722359    3.958349    12.391801   \n",
       "min     250.000000    8.000000   24.000000    2.500000     0.000000   \n",
       "25%     850.000000   62.000000   71.000000   11.500000    13.000000   \n",
       "50%    1200.000000   75.000000   82.000000   13.600000    21.000000   \n",
       "75%    1700.000000   85.000000   92.000000   16.500000    31.000000   \n",
       "max    6800.000000  103.000000  100.000000   39.800000    64.000000   \n",
       "\n",
       "             Expend  Grad.Rate  \n",
       "count    777.000000  777.00000  \n",
       "mean    9660.171171   65.46332  \n",
       "std     5221.768440   17.17771  \n",
       "min     3186.000000   10.00000  \n",
       "25%     6751.000000   53.00000  \n",
       "50%     8377.000000   65.00000  \n",
       "75%    10830.000000   78.00000  \n",
       "max    56233.000000  118.00000  "
      ]
     },
     "execution_count": 63,
     "metadata": {},
     "output_type": "execute_result"
    }
   ],
   "source": [
    "# Statistics\n",
    "dataframe.describe()"
   ]
  },
  {
   "cell_type": "code",
   "execution_count": 64,
   "metadata": {
    "collapsed": false
   },
   "outputs": [
    {
     "data": {
      "text/plain": [
       "<seaborn.axisgrid.FacetGrid at 0x112cf5208>"
      ]
     },
     "execution_count": 64,
     "metadata": {},
     "output_type": "execute_result"
    },
    {
     "data": {
      "image/png": "[encoded data removed]",
      "text/plain": [
       "<matplotlib.figure.Figure at 0x112cf54e0>"
      ]
     },
     "metadata": {},
     "output_type": "display_data"
    }
   ],
   "source": [
    "sns.lmplot(x='Outstate', y='F.Undergrad', data=dataframe, hue=\"Private\", \n",
    "           fit_reg=False, palette=\"coolwarm\", size=6, aspect=1)"
   ]
  },
  {
   "cell_type": "code",
   "execution_count": 65,
   "metadata": {
    "collapsed": false
   },
   "outputs": [
    {
     "data": {
      "text/plain": [
       "<seaborn.axisgrid.FacetGrid at 0x113833f60>"
      ]
     },
     "execution_count": 65,
     "metadata": {},
     "output_type": "execute_result"
    },
    {
     "data": {
      "image/png": "[encoded data removed]",
      "text/plain": [
       "<matplotlib.figure.Figure at 0x113833e48>"
      ]
     },
     "metadata": {},
     "output_type": "display_data"
    }
   ],
   "source": [
    "# From the plot above, we can see that tuition tends to be a lot higher for private schools\n",
    "# Also public schools have higher number of undergrads\n",
    "# Makes sense as private schools are smaller\n",
    "sns.lmplot(x='Room.Board', y='Grad.Rate', data=dataframe, hue=\"Private\", \n",
    "           fit_reg=False, size=6, aspect=1)"
   ]
  },
  {
   "cell_type": "code",
   "execution_count": 66,
   "metadata": {
    "collapsed": false
   },
   "outputs": [
    {
     "data": {
      "image/png": "[encoded data removed]",
      "text/plain": [
       "<matplotlib.figure.Figure at 0x1139adac8>"
      ]
     },
     "metadata": {},
     "output_type": "display_data"
    }
   ],
   "source": [
    "# Stacked Histogram showing out of state tuition based on private column\n",
    "graph = sns.FacetGrid(dataframe, hue='Private', palette='coolwarm', size = 7, legend_out=True)\n",
    "graph = graph.map(plt.hist, 'Outstate', bins = 50, alpha=0.7)"
   ]
  },
  {
   "cell_type": "code",
   "execution_count": 67,
   "metadata": {
    "collapsed": false
   },
   "outputs": [
    {
     "data": {
      "image/png": "[encoded data removed]",
      "text/plain": [
       "<matplotlib.figure.Figure at 0x1132ecc50>"
      ]
     },
     "metadata": {},
     "output_type": "display_data"
    }
   ],
   "source": [
    "# See correlation between grad rate and public/private schools\n",
    "graph = sns.FacetGrid(dataframe, hue='Private', palette='coolwarm', size = 7)\n",
    "graph = graph.map(plt.hist, 'Grad.Rate', bins = 30, alpha=0.7)"
   ]
  },
  {
   "cell_type": "code",
   "execution_count": 68,
   "metadata": {
    "collapsed": true
   },
   "outputs": [],
   "source": [
    "# You can't have more then 100% graduation rate....if you look above for the private school\n",
    "# Let's determine that school"
   ]
  },
  {
   "cell_type": "code",
   "execution_count": 69,
   "metadata": {
    "collapsed": false
   },
   "outputs": [
    {
     "data": {
      "text/html": [
       "<div>\n",
       "<table border=\"1\" class=\"dataframe\">\n",
       "  <thead>\n",
       "    <tr style=\"text-align: right;\">\n",
       "      <th></th>\n",
       "      <th>Private</th>\n",
       "      <th>Apps</th>\n",
       "      <th>Accept</th>\n",
       "      <th>Enroll</th>\n",
       "      <th>Top10perc</th>\n",
       "      <th>Top25perc</th>\n",
       "      <th>F.Undergrad</th>\n",
       "      <th>P.Undergrad</th>\n",
       "      <th>Outstate</th>\n",
       "      <th>Room.Board</th>\n",
       "      <th>Books</th>\n",
       "      <th>Personal</th>\n",
       "      <th>PhD</th>\n",
       "      <th>Terminal</th>\n",
       "      <th>S.F.Ratio</th>\n",
       "      <th>perc.alumni</th>\n",
       "      <th>Expend</th>\n",
       "      <th>Grad.Rate</th>\n",
       "    </tr>\n",
       "  </thead>\n",
       "  <tbody>\n",
       "    <tr>\n",
       "      <th>Cazenovia College</th>\n",
       "      <td>Yes</td>\n",
       "      <td>3847</td>\n",
       "      <td>3433</td>\n",
       "      <td>527</td>\n",
       "      <td>9</td>\n",
       "      <td>35</td>\n",
       "      <td>1010</td>\n",
       "      <td>12</td>\n",
       "      <td>9384</td>\n",
       "      <td>4840</td>\n",
       "      <td>600</td>\n",
       "      <td>500</td>\n",
       "      <td>22</td>\n",
       "      <td>47</td>\n",
       "      <td>14.3</td>\n",
       "      <td>20</td>\n",
       "      <td>7697</td>\n",
       "      <td>118</td>\n",
       "    </tr>\n",
       "  </tbody>\n",
       "</table>\n",
       "</div>"
      ],
      "text/plain": [
       "                  Private  Apps  Accept  Enroll  Top10perc  Top25perc  \\\n",
       "Cazenovia College     Yes  3847    3433     527          9         35   \n",
       "\n",
       "                   F.Undergrad  P.Undergrad  Outstate  Room.Board  Books  \\\n",
       "Cazenovia College         1010           12      9384        4840    600   \n",
       "\n",
       "                   Personal  PhD  Terminal  S.F.Ratio  perc.alumni  Expend  \\\n",
       "Cazenovia College       500   22        47       14.3           20    7697   \n",
       "\n",
       "                   Grad.Rate  \n",
       "Cazenovia College        118  "
      ]
     },
     "execution_count": 69,
     "metadata": {},
     "output_type": "execute_result"
    }
   ],
   "source": [
    "dataframe[dataframe['Grad.Rate'] > 100]"
   ]
  },
  {
   "cell_type": "code",
   "execution_count": 70,
   "metadata": {
    "collapsed": false
   },
   "outputs": [
    {
     "name": "stderr",
     "output_type": "stream",
     "text": [
      "/Users/admin/anaconda2/envs/tensorflow/lib/python3.5/site-packages/ipykernel/__main__.py:3: SettingWithCopyWarning: \n",
      "A value is trying to be set on a copy of a slice from a DataFrame\n",
      "\n",
      "See the caveats in the documentation: http://pandas.pydata.org/pandas-docs/stable/indexing.html#indexing-view-versus-copy\n",
      "  app.launch_new_instance()\n"
     ]
    }
   ],
   "source": [
    "# So it's Cazenovia College\n",
    "# We'll fix this by making the graduation rate of that school to 100%\n",
    "dataframe['Grad.Rate']['Cazenovia College'] = 100"
   ]
  },
  {
   "cell_type": "markdown",
   "metadata": {},
   "source": [
    "# Model"
   ]
  },
  {
   "cell_type": "code",
   "execution_count": 80,
   "metadata": {
    "collapsed": true
   },
   "outputs": [],
   "source": [
    "from sklearn.cluster import KMeans"
   ]
  },
  {
   "cell_type": "code",
   "execution_count": 81,
   "metadata": {
    "collapsed": true
   },
   "outputs": [],
   "source": [
    "# We make a model with 2 clusters because we have public vs private schools\n",
    "kmeans = KMeans(n_clusters=2)"
   ]
  },
  {
   "cell_type": "code",
   "execution_count": 82,
   "metadata": {
    "collapsed": false
   },
   "outputs": [
    {
     "data": {
      "text/plain": [
       "KMeans(algorithm='auto', copy_x=True, init='k-means++', max_iter=300,\n",
       "    n_clusters=2, n_init=10, n_jobs=1, precompute_distances='auto',\n",
       "    random_state=None, tol=0.0001, verbose=0)"
      ]
     },
     "execution_count": 82,
     "metadata": {},
     "output_type": "execute_result"
    }
   ],
   "source": [
    "#kmeans.fit(dataframe.drop(['Private', 'Unnamed: 0'],axis=1))\n",
    "kmeans.fit(dataframe.drop('Private',axis=1))"
   ]
  },
  {
   "cell_type": "code",
   "execution_count": 83,
   "metadata": {
    "collapsed": false
   },
   "outputs": [
    {
     "data": {
      "text/plain": [
       "array([[  1.03631389e+04,   6.55089815e+03,   2.56972222e+03,\n",
       "          4.14907407e+01,   7.02037037e+01,   1.30619352e+04,\n",
       "          2.46486111e+03,   1.07191759e+04,   4.64347222e+03,\n",
       "          5.95212963e+02,   1.71420370e+03,   8.63981481e+01,\n",
       "          9.13333333e+01,   1.40277778e+01,   2.00740741e+01,\n",
       "          1.41705000e+04,   6.75925926e+01,   3.14814815e-01],\n",
       "       [  1.81323468e+03,   1.28716592e+03,   4.91044843e+02,\n",
       "          2.53094170e+01,   5.34708520e+01,   2.18854858e+03,\n",
       "          5.95458894e+02,   1.03957085e+04,   4.31136472e+03,\n",
       "          5.41982063e+02,   1.28033632e+03,   7.04424514e+01,\n",
       "          7.78251121e+01,   1.40997010e+01,   2.31748879e+01,\n",
       "          8.93204634e+03,   6.50926756e+01,   7.93721973e-01]])"
      ]
     },
     "execution_count": 83,
     "metadata": {},
     "output_type": "execute_result"
    }
   ],
   "source": [
    "# Number of dimensions of these should be the number of features\n",
    "kmeans.cluster_centers_"
   ]
  },
  {
   "cell_type": "markdown",
   "metadata": {},
   "source": [
    "# Evaluation"
   ]
  },
  {
   "cell_type": "code",
   "execution_count": 84,
   "metadata": {
    "collapsed": true
   },
   "outputs": [],
   "source": [
    "# Let's convert our Private column to become numerical to be able to see our clusters\n",
    "def converter(private):\n",
    "    if private == 'Yes':\n",
    "        return 1\n",
    "    else:\n",
    "        return 0"
   ]
  },
  {
   "cell_type": "code",
   "execution_count": 76,
   "metadata": {
    "collapsed": true
   },
   "outputs": [],
   "source": [
    "# Make a new column that lines up with our Private column\n",
    "dataframe['Cluster'] = dataframe['Private'].apply(converter)"
   ]
  },
  {
   "cell_type": "code",
   "execution_count": 86,
   "metadata": {
    "collapsed": true
   },
   "outputs": [],
   "source": [
    "from sklearn.metrics import confusion_matrix, classification_report"
   ]
  },
  {
   "cell_type": "code",
   "execution_count": 89,
   "metadata": {
    "collapsed": false
   },
   "outputs": [
    {
     "name": "stdout",
     "output_type": "stream",
     "text": [
      "[[ 74 138]\n",
      " [ 34 531]]\n"
     ]
    }
   ],
   "source": [
    "print(confusion_matrix(dataframe['Cluster'], kmeans.labels_))"
   ]
  },
  {
   "cell_type": "code",
   "execution_count": 90,
   "metadata": {
    "collapsed": false
   },
   "outputs": [
    {
     "name": "stdout",
     "output_type": "stream",
     "text": [
      "             precision    recall  f1-score   support\n",
      "\n",
      "          0       0.69      0.35      0.46       212\n",
      "          1       0.79      0.94      0.86       565\n",
      "\n",
      "avg / total       0.76      0.78      0.75       777\n",
      "\n"
     ]
    }
   ],
   "source": [
    "print(classification_report(dataframe['Cluster'], kmeans.labels_))"
   ]
  }
 ],
 "metadata": {
  "kernelspec": {
   "display_name": "Python 3",
   "language": "python",
   "name": "python3"
  },
  "language_info": {
   "codemirror_mode": {
    "name": "ipython",
    "version": 3
   },
   "file_extension": ".py",
   "mimetype": "text/x-python",
   "name": "python",
   "nbconvert_exporter": "python",
   "pygments_lexer": "ipython3",
   "version": "3.5.3"
  }
 },
 "nbformat": 4,
 "nbformat_minor": 2
}
